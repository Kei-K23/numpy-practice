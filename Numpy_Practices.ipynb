{
 "cells": [
  {
   "cell_type": "markdown",
   "id": "19f375d6",
   "metadata": {},
   "source": [
    "# Numpy Practice\n",
    "\n",
    "Learning Numpy concepts with practical examples from basics to advanced — in a step-by-step, detailed, and comprehensive way. "
   ]
  },
  {
   "cell_type": "markdown",
   "id": "02ba7191",
   "metadata": {},
   "source": [
    "## Importing"
   ]
  },
  {
   "cell_type": "code",
   "execution_count": 5,
   "id": "99f02247",
   "metadata": {},
   "outputs": [],
   "source": [
    "import numpy as np"
   ]
  },
  {
   "cell_type": "markdown",
   "id": "86ca21ff",
   "metadata": {},
   "source": [
    "## NumPy Arrays – The Core of NumPy\n",
    "\n",
    "### Creating Arrays"
   ]
  },
  {
   "cell_type": "code",
   "execution_count": null,
   "id": "0a665198",
   "metadata": {},
   "outputs": [],
   "source": [
    "# 1D array\n",
    "a = np.array([1,2,3])\n",
    "\n",
    "# 2D array\n",
    "b = np.array([[1, 2, 3], [4, 5, 6]])\n",
    "\n",
    "# 3D array\n",
    "c = np.array([[[1], [2]], [[3], [4]]])"
   ]
  },
  {
   "cell_type": "markdown",
   "id": "4889764d",
   "metadata": {},
   "source": [
    "### Array Attributes"
   ]
  },
  {
   "cell_type": "code",
   "execution_count": 14,
   "id": "4a1951e2",
   "metadata": {},
   "outputs": [
    {
     "data": {
      "text/plain": [
       "8"
      ]
     },
     "execution_count": 14,
     "metadata": {},
     "output_type": "execute_result"
    }
   ],
   "source": [
    "a.shape # Shape of array - (3, )\n",
    "a.ndim # Number of dimensions - 1\n",
    "a.dtype  # Data type - dtype('int64') default is int64\n",
    "a.size # Total elements - 3\n",
    "a.itemsize # Memory size of each element - 8"
   ]
  },
  {
   "cell_type": "markdown",
   "id": "132cb38d",
   "metadata": {},
   "source": [
    "### Creating Arrays with Functions "
   ]
  },
  {
   "cell_type": "code",
   "execution_count": null,
   "id": "0b7f59c7",
   "metadata": {},
   "outputs": [],
   "source": [
    "np.zeros((2, 3)) # 2x3 2d array of zeros (default data type is float)\n",
    "np.ones((2, 3)) # 2x3 2d array of ones (default data type is also float)\n",
    "np.full((2, 2), 4) # 2x2 2d array that fill with 4\n",
    "np.eye(3) # 3x3 Identity matrix\n",
    "np.random.rand(3, 3) # 3x3 2d array that fill with random float number between [0, 1]\n",
    "np.random.randint(0, 10, size=(3, 3)) # 3x3 2d array that fill with random int number between [0, 10]\n",
    "np.arange(0, 100, 10) # Array that fill with int number arrange from 0 to 10 but with 10 steps\n",
    "np.linspace(0, 100, 10) # Array that fill with float number arrange from 0 to 10 but with 10 steps"
   ]
  },
  {
   "cell_type": "markdown",
   "id": "7fbf7a88",
   "metadata": {},
   "source": [
    "### Indexing, Slicing, and Iterating"
   ]
  },
  {
   "cell_type": "code",
   "execution_count": null,
   "id": "8d4c3e1f",
   "metadata": {},
   "outputs": [],
   "source": [
    "# Indexing\n",
    "arr = np.array([[1,2,3], \n",
    "                [4,5,6], \n",
    "                [7,8,9]])\n",
    "arr[1, 1] # output - 5\n",
    "\n",
    "# Slicing\n",
    "arr[:, 1]  # All rows, column 1 - [2, 5, 8]\n",
    "arr[0, :]  # First row, all columns - [1, 2, 3]\n",
    "arr[0:3, 1:2] # Subarray - (0:3 means from first row to the third row and 1:2 means take first column element from each row). Example output - array([[2], [5], [8]])\n",
    "\n",
    "# Boolean indexing\n",
    "arr[arr > 3] # Return an array that match the condition. For example only return that contain element that greater than 3"
   ]
  },
  {
   "cell_type": "markdown",
   "id": "b19a84d0",
   "metadata": {},
   "source": [
    "### Manipulating Arrays"
   ]
  },
  {
   "cell_type": "code",
   "execution_count": null,
   "id": "07eaa2b3",
   "metadata": {},
   "outputs": [],
   "source": [
    "# Shape Manipulation\n",
    "arr = np.array([1,2,3,4,5,6,7,8,9,10,11,12])\n",
    "arr.reshape(6, 2) # Reshape from original 1d array to 6x2 2d array\n",
    "arr.flatten() # Flatten to 1d array\n",
    "arr.T # Transpose\n",
    "\n",
    "# Concatenation and Splitting\n",
    "a = np.array([1,2,3])\n",
    "b = np.array([4,5,6])\n",
    "np.concatenate([a,b], axis=0) # Vertical\n",
    "np.vstack([a,b]) # Stack vertically\n",
    "np.hstack([a,b]) # Stack horizontally\n",
    "np.split(arr, 4) # Split an array into 4 parts"
   ]
  },
  {
   "cell_type": "markdown",
   "id": "4192c62d",
   "metadata": {},
   "source": [
    "### Mathematical Operations"
   ]
  },
  {
   "cell_type": "code",
   "execution_count": null,
   "id": "2629d7fa",
   "metadata": {},
   "outputs": [],
   "source": [
    "a = np.array([1, 2, 3])\n",
    "b = np.array([4, 5, 6])\n",
    "\n",
    "# Element-wise Operations\n",
    "a + b  # [5, 7, 9]\n",
    "b - a  # [3, 3, 3]\n",
    "a * b  # [4, 10, 18]\n",
    "b / a  # [4., 2.5, 2.]\n",
    "a ** 2  # [1, 4, 9]\n",
    "\n",
    "# Aggregate Functions\n",
    "a.sum() # 6\n",
    "a.mean() # 2.0\n",
    "a.min() # 1\n",
    "a.max() # 3\n",
    "a.std()  # 0.816496580927726\n",
    "np.cumsum(a)  # [1,3,6]\n",
    "np.prod(a) # 6\n",
    "\n",
    "# Broadcasting\n",
    "c = 3\n",
    "a + c # [4, 5, 6]"
   ]
  }
 ],
 "metadata": {
  "kernelspec": {
   "display_name": ".venv",
   "language": "python",
   "name": "python3"
  },
  "language_info": {
   "codemirror_mode": {
    "name": "ipython",
    "version": 3
   },
   "file_extension": ".py",
   "mimetype": "text/x-python",
   "name": "python",
   "nbconvert_exporter": "python",
   "pygments_lexer": "ipython3",
   "version": "3.13.2"
  }
 },
 "nbformat": 4,
 "nbformat_minor": 5
}
